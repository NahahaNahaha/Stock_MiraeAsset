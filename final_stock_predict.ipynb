{
 "cells": [
  {
   "cell_type": "code",
   "execution_count": 2,
   "metadata": {},
   "outputs": [],
   "source": [
    "import numpy as np\n",
    "import pandas as pd\n",
    "import matplotlib.pyplot as plt\n",
    "import seaborn as sns\n",
    "import sklearn\n",
    "import os\n",
    "import time\n",
    "import tensorflow as tf\n",
    "from openpyxl import Workbook\n",
    "from sklearn.metrics import *\n",
    "from pandas import DataFrame, Series \n",
    "from tensorflow.keras.models import Sequential # 케라스의 Sequential()을 임포트\n",
    "from tensorflow.keras.layers import Dense # 케라스의 Dense()를 임포트\n",
    "from tensorflow.keras import optimizers\n",
    "from tensorflow.python.client import device_lib\n",
    "\n",
    "\n",
    "\n"
   ]
  },
  {
   "cell_type": "code",
   "execution_count": 3,
   "metadata": {
    "tags": []
   },
   "outputs": [
    {
     "output_type": "stream",
     "name": "stdout",
     "text": "2.3.1\n"
    },
    {
     "output_type": "execute_result",
     "data": {
      "text/plain": "[PhysicalDevice(name=&#39;/physical_device:GPU:0&#39;, device_type=&#39;GPU&#39;)]"
     },
     "metadata": {},
     "execution_count": 3
    }
   ],
   "source": [
    "print(tf.__version__)\n",
    "\n",
    "tf.config.list_physical_devices('GPU')\n"
   ]
  },
  {
   "cell_type": "code",
   "execution_count": 4,
   "metadata": {
    "tags": []
   },
   "outputs": [
    {
     "output_type": "stream",
     "name": "stdout",
     "text": "csv file check complete\ncsv file load complete\n"
    }
   ],
   "source": [
    "# 주식 데이터 가져오기\n",
    "f_dir = os.getcwd()\n",
    "\n",
    "# final_stock_predict 파일과 csv파일이 동일 디렉토리에 있을경우 불러옴\n",
    "if os.path.isfile(f_dir + '/stocks.csv') and os.path.isfile(f_dir + '/trade_train.csv'):\n",
    "    print(\"csv file check complete\")\n",
    "    stock_data = pd.read_csv(f_dir + '/stocks.csv')\n",
    "    trade_data = pd.read_csv(f_dir + '/trade_train.csv')\n",
    "    print(\"csv file load complete\")\n",
    "else :\n",
    "    print(\"missing files\")\n",
    "\n"
   ]
  },
  {
   "cell_type": "code",
   "execution_count": 5,
   "metadata": {},
   "outputs": [],
   "source": [
    "# 타겟 종목 가져오기 \n",
    "target_stock_pool = stock_data.loc[stock_data['20년7월TOP3대상여부'].str.contains('Y', na = False)]\n",
    "target_stock_pool = target_stock_pool.drop_duplicates(subset = ['종목명'])\n",
    "Answer  = target_stock_pool['종목명'].values.tolist()      #135개의 종목명 \n",
    "Answer_code = target_stock_pool['종목번호'].values.tolist() #135개의 종목코드 "
   ]
  },
  {
   "cell_type": "code",
   "execution_count": 6,
   "metadata": {},
   "outputs": [],
   "source": [
    "# 주식 거래 데이터 그룹별로 구분, grouper[n] 은 n 그룹의 거래내역\n",
    "group_trade = trade_data.groupby(trade_data['그룹번호'])\n",
    "group_trade = trade_data.sort_values(by = ['그룹번호'], axis = 0) \n",
    "grouper = [g[1] for g in group_trade.groupby(['그룹번호'])] \n",
    "for i in range(48):\n",
    "    grouper[i] = grouper[i].sort_values(by = ['기준년월'], axis = 0)\n"
   ]
  },
  {
   "cell_type": "code",
   "execution_count": 7,
   "metadata": {},
   "outputs": [
    {
     "output_type": "execute_result",
     "data": {
      "text/plain": "1066"
     },
     "metadata": {},
     "execution_count": 7
    }
   ],
   "source": [
    "# 전체 거래 종목 수 확인 및 종목코드 어레이로 변경, 1066개의 종목\n",
    "all_stock = trade_data.drop_duplicates(subset = ['종목번호'])\n",
    "all_stock['종목번호'].value_counts() \n",
    "Y_class = all_stock['종목번호'].values.tolist() \n",
    "Y_class = np.array(Y_class).reshape(-1,1)\n",
    "len(Y_class) "
   ]
  },
  {
   "cell_type": "code",
   "execution_count": 8,
   "metadata": {},
   "outputs": [
    {
     "output_type": "execute_result",
     "data": {
      "text/plain": "array([[0., 0., 0., ..., 0., 0., 0.],\n       [0., 0., 0., ..., 0., 0., 0.],\n       [0., 0., 0., ..., 0., 0., 0.],\n       ...,\n       [0., 0., 0., ..., 0., 0., 0.],\n       [0., 0., 0., ..., 0., 0., 0.],\n       [0., 0., 0., ..., 0., 0., 0.]])"
     },
     "metadata": {},
     "execution_count": 8
    }
   ],
   "source": [
    "# 전체 종목 one-hot-encoding\n",
    "from sklearn.preprocessing import OneHotEncoder\n",
    "enc = OneHotEncoder() \n",
    "enc.fit(Y_class)\n",
    "Y_class_encoding = enc.transform(Y_class).toarray() \n",
    "Y_class_encoding"
   ]
  },
  {
   "cell_type": "code",
   "execution_count": 9,
   "metadata": {
    "tags": []
   },
   "outputs": [
    {
     "output_type": "stream",
     "name": "stdout",
     "text": "0 는 완료\n\n1 는 완료\n\n2 는 완료\n\n3 는 완료\n\n4 는 완료\n\n5 는 완료\n\n6 는 완료\n\n7 는 완료\n\n8 는 완료\n\n9 는 완료\n\n10 는 완료\n\n11 는 완료\n\n12 는 완료\n\n13 는 완료\n\n14 는 완료\n\n15 는 완료\n\n16 는 완료\n\n17 는 완료\n\n18 는 완료\n\n19 는 완료\n\n20 는 완료\n\n21 는 완료\n\n22 는 완료\n\n23 는 완료\n\n24 는 완료\n\n25 는 완료\n\n26 는 완료\n\n27 는 완료\n\n28 는 완료\n\n29 는 완료\n\n30 는 완료\n\n31 는 완료\n\n32 는 완료\n\n33 는 완료\n\n34 는 완료\n\n35 는 완료\n\n36 는 완료\n\n37 는 완료\n\n38 는 완료\n\n39 는 완료\n\n40 는 완료\n\n41 는 완료\n\n42 는 완료\n\n43 는 완료\n\n44 는 완료\n\n45 는 완료\n\n46 는 완료\n\n47 는 완료\n\n48 는 완료\n\n49 는 완료\n\n50 는 완료\n\n51 는 완료\n\n52 는 완료\n\n53 는 완료\n\n54 는 완료\n\n55 는 완료\n\n56 는 완료\n\n57 는 완료\n\n58 는 완료\n\n59 는 완료\n\n60 는 완료\n\n61 는 완료\n\n62 는 완료\n\n63 는 완료\n\n64 는 완료\n\n65 는 완료\n\n66 는 완료\n\n67 는 완료\n\n68 는 완료\n\n69 는 완료\n\n70 는 완료\n\n71 는 완료\n\n72 는 완료\n\n73 는 완료\n\n74 는 완료\n\n75 는 완료\n\n76 는 완료\n\n77 는 완료\n\n78 는 완료\n\n79 는 완료\n\n80 는 완료\n\n81 는 완료\n\n82 는 완료\n\n83 는 완료\n\n84 는 완료\n\n85 는 완료\n\n86 는 완료\n\n87 는 완료\n\n88 는 완료\n\n89 는 완료\n\n90 는 완료\n\n91 는 완료\n\n92 는 완료\n\n93 는 완료\n\n94 는 완료\n\n95 는 완료\n\n96 는 완료\n\n97 는 완료\n\n98 는 완료\n\n99 는 완료\n\n100 는 완료\n\n101 는 완료\n\n102 는 완료\n\n103 는 완료\n\n104 는 완료\n\n105 는 완료\n\n106 는 완료\n\n107 는 완료\n\n108 는 완료\n\n109 는 완료\n\n110 는 완료\n\n111 는 완료\n\n112 는 완료\n\n113 는 완료\n\n114 는 완료\n\n115 는 완료\n\n116 는 완료\n\n117 는 완료\n\n118 는 완료\n\n119 는 완료\n\n120 는 완료\n\n121 는 완료\n\n122 는 완료\n\n123 는 완료\n\n124 는 완료\n\n125 는 완료\n\n126 는 완료\n\n127 는 완료\n\n128 는 완료\n\n129 는 완료\n\n130 는 완료\n\n131 는 완료\n\n132 는 완료\n\n133 는 완료\n\n134 는 완료\n\n135 는 완료\n\n136 는 완료\n\n137 는 완료\n\n138 는 완료\n\n139 는 완료\n\n140 는 완료\n\n141 는 완료\n\n142 는 완료\n\n143 는 완료\n\n144 는 완료\n\n145 는 완료\n\n146 는 완료\n\n147 는 완료\n\n148 는 완료\n\n149 는 완료\n\n150 는 완료\n\n151 는 완료\n\n152 는 완료\n\n153 는 완료\n\n154 는 완료\n\n155 는 완료\n\n156 는 완료\n\n157 는 완료\n\n158 는 완료\n\n159 는 완료\n\n160 는 완료\n\n161 는 완료\n\n162 는 완료\n\n163 는 완료\n\n164 는 완료\n\n165 는 완료\n\n166 는 완료\n\n167 는 완료\n\n168 는 완료\n\n169 는 완료\n\n170 는 완료\n\n171 는 완료\n\n172 는 완료\n\n173 는 완료\n\n174 는 완료\n\n175 는 완료\n\n176 는 완료\n\n177 는 완료\n\n178 는 완료\n\n179 는 완료\n\n180 는 완료\n\n181 는 완료\n\n182 는 완료\n\n183 는 완료\n\n184 는 완료\n\n185 는 완료\n\n186 는 완료\n\n187 는 완료\n\n188 는 완료\n\n189 는 완료\n\n190 는 완료\n\n191 는 완료\n\n192 는 완료\n\n193 는 완료\n\n194 는 완료\n\n195 는 완료\n\n196 는 완료\n\n197 는 완료\n\n198 는 완료\n\n199 는 완료\n\n200 는 완료\n\n201 는 완료\n\n202 는 완료\n\n203 는 완료\n\n204 는 완료\n\n205 는 완료\n\n206 는 완료\n\n207 는 완료\n\n208 는 완료\n\n209 는 완료\n\n210 는 완료\n\n211 는 완료\n\n212 는 완료\n\n213 는 완료\n\n214 는 완료\n\n215 는 완료\n\n216 는 완료\n\n217 는 완료\n\n218 는 완료\n\n219 는 완료\n\n220 는 완료\n\n221 는 완료\n\n222 는 완료\n\n223 는 완료\n\n224 는 완료\n\n225 는 완료\n\n226 는 완료\n\n227 는 완료\n\n228 는 완료\n\n229 는 완료\n\n230 는 완료\n\n231 는 완료\n\n232 는 완료\n\n233 는 완료\n\n234 는 완료\n\n235 는 완료\n\n236 는 완료\n\n237 는 완료\n\n238 는 완료\n\n239 는 완료\n\n240 는 완료\n\n241 는 완료\n\n242 는 완료\n\n243 는 완료\n\n244 는 완료\n\n245 는 완료\n\n246 는 완료\n\n247 는 완료\n\n248 는 완료\n\n249 는 완료\n\n250 는 완료\n\n251 는 완료\n\n252 는 완료\n\n253 는 완료\n\n254 는 완료\n\n255 는 완료\n\n256 는 완료\n\n257 는 완료\n\n258 는 완료\n\n259 는 완료\n\n260 는 완료\n\n261 는 완료\n\n262 는 완료\n\n263 는 완료\n\n264 는 완료\n\n265 는 완료\n\n266 는 완료\n\n267 는 완료\n\n268 는 완료\n\n269 는 완료\n\n270 는 완료\n\n271 는 완료\n\n272 는 완료\n\n273 는 완료\n\n274 는 완료\n\n275 는 완료\n\n276 는 완료\n\n277 는 완료\n\n278 는 완료\n\n279 는 완료\n\n280 는 완료\n\n281 는 완료\n\n282 는 완료\n\n283 는 완료\n\n284 는 완료\n\n285 는 완료\n\n286 는 완료\n\n287 는 완료\n\n288 는 완료\n\n289 는 완료\n\n290 는 완료\n\n291 는 완료\n\n292 는 완료\n\n293 는 완료\n\n294 는 완료\n\n295 는 완료\n\n296 는 완료\n\n297 는 완료\n\n298 는 완료\n\n299 는 완료\n\n300 는 완료\n\n301 는 완료\n\n302 는 완료\n\n303 는 완료\n\n304 는 완료\n\n305 는 완료\n\n306 는 완료\n\n307 는 완료\n\n308 는 완료\n\n309 는 완료\n\n310 는 완료\n\n311 는 완료\n\n312 는 완료\n\n313 는 완료\n\n314 는 완료\n\n315 는 완료\n\n316 는 완료\n\n317 는 완료\n\n318 는 완료\n\n319 는 완료\n\n320 는 완료\n\n321 는 완료\n\n322 는 완료\n\n323 는 완료\n\n324 는 완료\n\n325 는 완료\n\n326 는 완료\n\n327 는 완료\n\n328 는 완료\n\n329 는 완료\n\n330 는 완료\n\n331 는 완료\n\n332 는 완료\n\n333 는 완료\n\n334 는 완료\n\n335 는 완료\n\n336 는 완료\n\n337 는 완료\n\n338 는 완료\n\n339 는 완료\n\n340 는 완료\n\n341 는 완료\n\n342 는 완료\n\n343 는 완료\n\n344 는 완료\n\n345 는 완료\n\n346 는 완료\n\n347 는 완료\n\n348 는 완료\n\n349 는 완료\n\n350 는 완료\n\n351 는 완료\n\n352 는 완료\n\n353 는 완료\n\n354 는 완료\n\n355 는 완료\n\n356 는 완료\n\n357 는 완료\n\n358 는 완료\n\n359 는 완료\n\n360 는 완료\n\n361 는 완료\n\n362 는 완료\n\n363 는 완료\n\n364 는 완료\n\n365 는 완료\n\n366 는 완료\n\n367 는 완료\n\n368 는 완료\n\n369 는 완료\n\n370 는 완료\n\n371 는 완료\n\n372 는 완료\n\n373 는 완료\n\n374 는 완료\n\n375 는 완료\n\n376 는 완료\n\n377 는 완료\n\n378 는 완료\n\n379 는 완료\n\n380 는 완료\n\n381 는 완료\n\n382 는 완료\n\n383 는 완료\n\n384 는 완료\n\n385 는 완료\n\n386 는 완료\n\n387 는 완료\n\n388 는 완료\n\n389 는 완료\n\n390 는 완료\n\n391 는 완료\n\n392 는 완료\n\n393 는 완료\n\n394 는 완료\n\n395 는 완료\n\n396 는 완료\n\n397 는 완료\n\n398 는 완료\n\n399 는 완료\n\n400 는 완료\n\n401 는 완료\n\n402 는 완료\n\n403 는 완료\n\n404 는 완료\n\n405 는 완료\n\n406 는 완료\n\n407 는 완료\n\n408 는 완료\n\n409 는 완료\n\n410 는 완료\n\n411 는 완료\n\n412 는 완료\n\n413 는 완료\n\n414 는 완료\n\n415 는 완료\n\n416 는 완료\n\n417 는 완료\n\n418 는 완료\n\n419 는 완료\n\n420 는 완료\n\n421 는 완료\n\n422 는 완료\n\n423 는 완료\n\n424 는 완료\n\n425 는 완료\n\n426 는 완료\n\n427 는 완료\n\n428 는 완료\n\n429 는 완료\n\n430 는 완료\n\n431 는 완료\n\n432 는 완료\n\n433 는 완료\n\n434 는 완료\n\n435 는 완료\n\n436 는 완료\n\n437 는 완료\n\n438 는 완료\n\n439 는 완료\n\n440 는 완료\n\n441 는 완료\n\n442 는 완료\n\n443 는 완료\n\n444 는 완료\n\n445 는 완료\n\n446 는 완료\n\n447 는 완료\n\n448 는 완료\n\n449 는 완료\n\n450 는 완료\n\n451 는 완료\n\n452 는 완료\n\n453 는 완료\n\n454 는 완료\n\n455 는 완료\n\n456 는 완료\n\n457 는 완료\n\n458 는 완료\n\n459 는 완료\n\n460 는 완료\n\n461 는 완료\n\n462 는 완료\n\n463 는 완료\n\n464 는 완료\n\n465 는 완료\n\n466 는 완료\n\n467 는 완료\n\n468 는 완료\n\n469 는 완료\n\n470 는 완료\n\n471 는 완료\n\n472 는 완료\n\n473 는 완료\n\n474 는 완료\n\n475 는 완료\n\n476 는 완료\n\n477 는 완료\n\n478 는 완료\n\n479 는 완료\n\n480 는 완료\n\n481 는 완료\n\n482 는 완료\n\n483 는 완료\n\n484 는 완료\n\n485 는 완료\n\n486 는 완료\n\n487 는 완료\n\n488 는 완료\n\n489 는 완료\n\n490 는 완료\n\n491 는 완료\n\n492 는 완료\n\n493 는 완료\n\n494 는 완료\n\n495 는 완료\n\n496 는 완료\n\n497 는 완료\n\n498 는 완료\n\n499 는 완료\n\n500 는 완료\n\n501 는 완료\n\n502 는 완료\n\n503 는 완료\n\n504 는 완료\n\n505 는 완료\n\n506 는 완료\n\n507 는 완료\n\n508 는 완료\n\n509 는 완료\n\n510 는 완료\n\n511 는 완료\n\n512 는 완료\n\n513 는 완료\n\n514 는 완료\n\n515 는 완료\n\n516 는 완료\n\n517 는 완료\n\n518 는 완료\n\n519 는 완료\n\n520 는 완료\n\n521 는 완료\n\n522 는 완료\n\n523 는 완료\n\n524 는 완료\n\n525 는 완료\n\n526 는 완료\n\n527 는 완료\n\n528 는 완료\n\n529 는 완료\n\n530 는 완료\n\n531 는 완료\n\n532 는 완료\n\n533 는 완료\n\n534 는 완료\n\n535 는 완료\n\n536 는 완료\n\n537 는 완료\n\n538 는 완료\n\n539 는 완료\n\n540 는 완료\n\n541 는 완료\n\n542 는 완료\n\n543 는 완료\n\n544 는 완료\n\n545 는 완료\n\n546 는 완료\n\n547 는 완료\n\n548 는 완료\n\n549 는 완료\n\n550 는 완료\n\n551 는 완료\n\n552 는 완료\n\n553 는 완료\n\n554 는 완료\n\n555 는 완료\n\n556 는 완료\n\n557 는 완료\n\n558 는 완료\n\n559 는 완료\n\n560 는 완료\n\n561 는 완료\n\n562 는 완료\n\n563 는 완료\n\n564 는 완료\n\n565 는 완료\n\n566 는 완료\n\n567 는 완료\n\n568 는 완료\n\n569 는 완료\n\n570 는 완료\n\n571 는 완료\n\n572 는 완료\n\n573 는 완료\n\n574 는 완료\n\n575 는 완료\n\n576 는 완료\n\n577 는 완료\n\n578 는 완료\n\n579 는 완료\n\n580 는 완료\n\n581 는 완료\n\n582 는 완료\n\n583 는 완료\n\n584 는 완료\n\n585 는 완료\n\n586 는 완료\n\n587 는 완료\n\n588 는 완료\n\n589 는 완료\n\n590 는 완료\n\n591 는 완료\n\n592 는 완료\n\n593 는 완료\n\n594 는 완료\n\n595 는 완료\n\n596 는 완료\n\n597 는 완료\n\n598 는 완료\n\n599 는 완료\n\n600 는 완료\n\n601 는 완료\n\n602 는 완료\n\n603 는 완료\n\n604 는 완료\n\n605 는 완료\n\n606 는 완료\n\n607 는 완료\n\n608 는 완료\n\n609 는 완료\n\n610 는 완료\n\n611 는 완료\n\n612 는 완료\n\n613 는 완료\n\n614 는 완료\n\n615 는 완료\n\n616 는 완료\n\n617 는 완료\n\n618 는 완료\n\n619 는 완료\n\n620 는 완료\n\n621 는 완료\n\n622 는 완료\n\n623 는 완료\n\n624 는 완료\n\n625 는 완료\n\n626 는 완료\n\n627 는 완료\n\n628 는 완료\n\n629 는 완료\n\n630 는 완료\n\n631 는 완료\n\n632 는 완료\n\n633 는 완료\n\n634 는 완료\n\n635 는 완료\n\n636 는 완료\n\n637 는 완료\n\n638 는 완료\n\n639 는 완료\n\n640 는 완료\n\n641 는 완료\n\n642 는 완료\n\n643 는 완료\n\n644 는 완료\n\n645 는 완료\n\n646 는 완료\n\n647 는 완료\n\n648 는 완료\n\n649 는 완료\n\n650 는 완료\n\n651 는 완료\n\n652 는 완료\n\n653 는 완료\n\n654 는 완료\n\n655 는 완료\n\n656 는 완료\n\n657 는 완료\n\n658 는 완료\n\n659 는 완료\n\n660 는 완료\n\n661 는 완료\n\n662 는 완료\n\n663 는 완료\n\n664 는 완료\n\n665 는 완료\n\n666 는 완료\n\n667 는 완료\n\n668 는 완료\n\n669 는 완료\n\n670 는 완료\n\n671 는 완료\n\n672 는 완료\n\n673 는 완료\n\n674 는 완료\n\n675 는 완료\n\n676 는 완료\n\n677 는 완료\n\n678 는 완료\n\n679 는 완료\n\n680 는 완료\n\n681 는 완료\n\n682 는 완료\n\n683 는 완료\n\n684 는 완료\n\n685 는 완료\n\n686 는 완료\n\n687 는 완료\n\n688 는 완료\n\n689 는 완료\n\n690 는 완료\n\n691 는 완료\n\n692 는 완료\n\n693 는 완료\n\n694 는 완료\n\n695 는 완료\n\n696 는 완료\n\n697 는 완료\n\n698 는 완료\n\n699 는 완료\n\n700 는 완료\n\n701 는 완료\n\n702 는 완료\n\n703 는 완료\n\n704 는 완료\n\n705 는 완료\n\n706 는 완료\n\n707 는 완료\n\n708 는 완료\n\n709 는 완료\n\n710 는 완료\n\n711 는 완료\n\n712 는 완료\n\n713 는 완료\n\n714 는 완료\n\n715 는 완료\n\n716 는 완료\n\n717 는 완료\n\n718 는 완료\n\n719 는 완료\n\n720 는 완료\n\n721 는 완료\n\n722 는 완료\n\n723 는 완료\n\n724 는 완료\n\n725 는 완료\n\n726 는 완료\n\n727 는 완료\n\n728 는 완료\n\n729 는 완료\n\n730 는 완료\n\n731 는 완료\n\n732 는 완료\n\n733 는 완료\n\n734 는 완료\n\n735 는 완료\n\n736 는 완료\n\n737 는 완료\n\n738 는 완료\n\n739 는 완료\n\n740 는 완료\n\n741 는 완료\n\n742 는 완료\n\n743 는 완료\n\n744 는 완료\n\n745 는 완료\n\n746 는 완료\n\n747 는 완료\n\n748 는 완료\n\n749 는 완료\n\n750 는 완료\n\n751 는 완료\n\n752 는 완료\n\n753 는 완료\n\n754 는 완료\n\n755 는 완료\n\n756 는 완료\n\n757 는 완료\n\n758 는 완료\n\n759 는 완료\n\n760 는 완료\n\n761 는 완료\n\n762 는 완료\n\n763 는 완료\n\n764 는 완료\n\n765 는 완료\n\n766 는 완료\n\n767 는 완료\n\n768 는 완료\n\n769 는 완료\n\n770 는 완료\n\n771 는 완료\n\n772 는 완료\n\n773 는 완료\n\n774 는 완료\n\n775 는 완료\n\n776 는 완료\n\n777 는 완료\n\n778 는 완료\n\n779 는 완료\n\n780 는 완료\n\n781 는 완료\n\n782 는 완료\n\n783 는 완료\n\n784 는 완료\n\n785 는 완료\n\n786 는 완료\n\n787 는 완료\n\n788 는 완료\n\n789 는 완료\n\n790 는 완료\n\n791 는 완료\n\n792 는 완료\n\n793 는 완료\n\n794 는 완료\n\n795 는 완료\n\n796 는 완료\n\n797 는 완료\n\n798 는 완료\n\n799 는 완료\n\n800 는 완료\n\n801 는 완료\n\n802 는 완료\n\n803 는 완료\n\n804 는 완료\n\n805 는 완료\n\n806 는 완료\n\n807 는 완료\n\n808 는 완료\n\n809 는 완료\n\n810 는 완료\n\n811 는 완료\n\n812 는 완료\n\n813 는 완료\n\n814 는 완료\n\n815 는 완료\n\n816 는 완료\n\n817 는 완료\n\n818 는 완료\n\n819 는 완료\n\n820 는 완료\n\n821 는 완료\n\n822 는 완료\n\n823 는 완료\n\n824 는 완료\n\n825 는 완료\n\n826 는 완료\n\n827 는 완료\n\n828 는 완료\n\n829 는 완료\n\n830 는 완료\n\n831 는 완료\n\n832 는 완료\n\n833 는 완료\n\n834 는 완료\n\n835 는 완료\n\n836 는 완료\n\n837 는 완료\n\n838 는 완료\n\n839 는 완료\n\n840 는 완료\n\n841 는 완료\n\n842 는 완료\n\n843 는 완료\n\n844 는 완료\n\n845 는 완료\n\n846 는 완료\n\n847 는 완료\n\n848 는 완료\n\n849 는 완료\n\n850 는 완료\n\n851 는 완료\n\n852 는 완료\n\n853 는 완료\n\n854 는 완료\n\n855 는 완료\n\n856 는 완료\n\n857 는 완료\n\n858 는 완료\n\n859 는 완료\n\n860 는 완료\n\n861 는 완료\n\n862 는 완료\n\n863 는 완료\n\n864 는 완료\n\n865 는 완료\n\n866 는 완료\n\n867 는 완료\n\n868 는 완료\n\n869 는 완료\n\n870 는 완료\n\n871 는 완료\n\n872 는 완료\n\n873 는 완료\n\n874 는 완료\n\n875 는 완료\n\n876 는 완료\n\n877 는 완료\n\n878 는 완료\n\n879 는 완료\n\n880 는 완료\n\n881 는 완료\n\n882 는 완료\n\n883 는 완료\n\n884 는 완료\n\n885 는 완료\n\n886 는 완료\n\n887 는 완료\n\n888 는 완료\n\n889 는 완료\n\n890 는 완료\n\n891 는 완료\n\n892 는 완료\n\n893 는 완료\n\n894 는 완료\n\n895 는 완료\n\n896 는 완료\n\n897 는 완료\n\n898 는 완료\n\n899 는 완료\n\n900 는 완료\n\n901 는 완료\n\n902 는 완료\n\n903 는 완료\n\n904 는 완료\n\n905 는 완료\n\n906 는 완료\n\n907 는 완료\n\n908 는 완료\n\n909 는 완료\n\n910 는 완료\n\n911 는 완료\n\n912 는 완료\n\n913 는 완료\n\n914 는 완료\n\n915 는 완료\n\n916 는 완료\n\n917 는 완료\n\n918 는 완료\n\n919 는 완료\n\n920 는 완료\n\n921 는 완료\n\n922 는 완료\n\n923 는 완료\n\n924 는 완료\n\n925 는 완료\n\n926 는 완료\n\n927 는 완료\n\n928 는 완료\n\n929 는 완료\n\n930 는 완료\n\n931 는 완료\n\n932 는 완료\n\n933 는 완료\n\n934 는 완료\n\n935 는 완료\n\n936 는 완료\n\n937 는 완료\n\n938 는 완료\n\n939 는 완료\n\n940 는 완료\n\n941 는 완료\n\n942 는 완료\n\n943 는 완료\n\n944 는 완료\n\n945 는 완료\n\n946 는 완료\n\n947 는 완료\n\n948 는 완료\n\n949 는 완료\n\n950 는 완료\n\n951 는 완료\n\n952 는 완료\n\n953 는 완료\n\n954 는 완료\n\n955 는 완료\n\n956 는 완료\n\n957 는 완료\n\n958 는 완료\n\n959 는 완료\n\n960 는 완료\n\n961 는 완료\n\n962 는 완료\n\n963 는 완료\n\n964 는 완료\n\n965 는 완료\n\n966 는 완료\n\n967 는 완료\n\n968 는 완료\n\n969 는 완료\n\n970 는 완료\n\n971 는 완료\n\n972 는 완료\n\n973 는 완료\n\n974 는 완료\n\n975 는 완료\n\n976 는 완료\n\n977 는 완료\n\n978 는 완료\n\n979 는 완료\n\n980 는 완료\n\n981 는 완료\n\n982 는 완료\n\n983 는 완료\n\n984 는 완료\n\n985 는 완료\n\n986 는 완료\n\n987 는 완료\n\n988 는 완료\n\n989 는 완료\n\n990 는 완료\n\n991 는 완료\n\n992 는 완료\n\n993 는 완료\n\n994 는 완료\n\n995 는 완료\n\n996 는 완료\n\n997 는 완료\n\n998 는 완료\n\n999 는 완료\n\n1000 는 완료\n\n1001 는 완료\n\n1002 는 완료\n\n1003 는 완료\n\n1004 는 완료\n\n1005 는 완료\n\n1006 는 완료\n\n1007 는 완료\n\n1008 는 완료\n\n1009 는 완료\n\n1010 는 완료\n\n1011 는 완료\n\n1012 는 완료\n\n1013 는 완료\n\n1014 는 완료\n\n1015 는 완료\n\n1016 는 완료\n\n1017 는 완료\n\n1018 는 완료\n\n1019 는 완료\n\n1020 는 완료\n\n1021 는 완료\n\n1022 는 완료\n\n1023 는 완료\n\n1024 는 완료\n\n1025 는 완료\n\n1026 는 완료\n\n1027 는 완료\n\n1028 는 완료\n\n1029 는 완료\n\n1030 는 완료\n\n1031 는 완료\n\n1032 는 완료\n\n1033 는 완료\n\n1034 는 완료\n\n1035 는 완료\n\n1036 는 완료\n\n1037 는 완료\n\n1038 는 완료\n\n1039 는 완료\n\n1040 는 완료\n\n1041 는 완료\n\n1042 는 완료\n\n1043 는 완료\n\n1044 는 완료\n\n1045 는 완료\n\n1046 는 완료\n\n1047 는 완료\n\n1048 는 완료\n\n1049 는 완료\n\n1050 는 완료\n\n1051 는 완료\n\n1052 는 완료\n\n1053 는 완료\n\n1054 는 완료\n\n1055 는 완료\n\n1056 는 완료\n\n1057 는 완료\n\n1058 는 완료\n\n1059 는 완료\n\n1060 는 완료\n\n1061 는 완료\n\n1062 는 완료\n\n1063 는 완료\n\n1064 는 완료\n\n1065 는 완료\n\n"
    }
   ],
   "source": [
    "# 종목코드를 넣으면 종목명 출력 \n",
    "def find_stock_name(code):\n",
    "    if(code == 'A204990'):\n",
    "        return '상폐'\n",
    "    return stock_data.loc[stock_data['종목번호'].str.contains(code, na = False)].iloc[0]['종목명']\n",
    "\n",
    "# 모든 주식의 코드와 종목명 따옴\n",
    "all_stock_data = all_stock['종목번호'].values.tolist()\n",
    "all_stock_name = []\n",
    "for i in range(len(all_stock_data)):\n",
    "    all_stock_name.append(find_stock_name(all_stock_data[i]))\n",
    "    print(i,\"는 완료\\n\")\n"
   ]
  },
  {
   "cell_type": "code",
   "execution_count": 10,
   "metadata": {},
   "outputs": [],
   "source": [
    "df = DataFrame({'종목명':all_stock_name, '인코딩순':range(len(all_stock_data))}, index = all_stock_data)\n",
    "\n",
    "# 인코딩 함수\n",
    "Answer_values = []\n",
    "for i in range(len(all_stock_data)):\n",
    "    Answer_values.append(i)\n",
    "Answer_len = len(Answer_values)\n",
    "encoding = np.eye(Answer_len)[Answer_values]\n",
    "\n",
    "# 코드 리스트를 넣으면 인코딩된 값 리스트를 배출\n",
    "def encoding_code(lst):\n",
    "    encoding_final = []\n",
    "    for i in range(len(lst)):\n",
    "        encoding_final.append(encoding[df.loc[lst[i]]['인코딩순']].tolist())\n",
    "    return encoding_final\n"
   ]
  },
  {
   "cell_type": "code",
   "execution_count": 11,
   "metadata": {
    "tags": []
   },
   "outputs": [
    {
     "output_type": "stream",
     "name": "stdout",
     "text": "12\nEpoch 1/30\n"
    },
    {
     "output_type": "error",
     "ename": "InternalError",
     "evalue": " Blas GEMM launch failed : a.shape=(1, 1073), b.shape=(1073, 1066), m=1, n=1066, k=1073\n\t [[node sequential/dense/MatMul (defined at &lt;ipython-input-11-9b269a81c1c4&gt;:131) ]] [Op:__inference_train_function_640]\n\nFunction call stack:\ntrain_function\n",
     "traceback": [
      "\u001b[1;31m---------------------------------------------------------------------------\u001b[0m",
      "\u001b[1;31mInternalError\u001b[0m                             Traceback (most recent call last)",
      "\u001b[1;32m&lt;ipython-input-11-9b269a81c1c4&gt;\u001b[0m in \u001b[0;36m&lt;module&gt;\u001b[1;34m\u001b[0m\n\u001b[0;32m    129\u001b[0m \u001b[1;33m\u001b[0m\u001b[0m\n\u001b[0;32m    130\u001b[0m \u001b[1;33m\u001b[0m\u001b[0m\n\u001b[1;32m--&gt; 131\u001b[1;33m   \u001b[0mhistory\u001b[0m\u001b[1;33m=\u001b[0m\u001b[0mmodel_first\u001b[0m\u001b[1;33m.\u001b[0m\u001b[0mfit\u001b[0m\u001b[1;33m(\u001b[0m\u001b[0msix_months_stock_encode\u001b[0m\u001b[1;33m,\u001b[0m\u001b[0mtarget_first\u001b[0m\u001b[1;33m,\u001b[0m \u001b[0mbatch_size\u001b[0m\u001b[1;33m=\u001b[0m\u001b[0mB_SIZE\u001b[0m\u001b[1;33m,\u001b[0m \u001b[0mepochs\u001b[0m\u001b[1;33m=\u001b[0m\u001b[1;36m30\u001b[0m\u001b[1;33m)\u001b[0m\u001b[1;33m\u001b[0m\u001b[1;33m\u001b[0m\u001b[0m\n\u001b[0m\u001b[0;32m    132\u001b[0m   \u001b[0mhistory\u001b[0m\u001b[1;33m=\u001b[0m\u001b[0mmodel_second\u001b[0m\u001b[1;33m.\u001b[0m\u001b[0mfit\u001b[0m\u001b[1;33m(\u001b[0m\u001b[0msix_months_stock_encode\u001b[0m\u001b[1;33m,\u001b[0m\u001b[0mtarget_second\u001b[0m\u001b[1;33m,\u001b[0m \u001b[0mbatch_size\u001b[0m\u001b[1;33m=\u001b[0m\u001b[0mB_SIZE\u001b[0m\u001b[1;33m,\u001b[0m \u001b[0mepochs\u001b[0m\u001b[1;33m=\u001b[0m\u001b[1;36m30\u001b[0m\u001b[1;33m)\u001b[0m\u001b[1;33m\u001b[0m\u001b[1;33m\u001b[0m\u001b[0m\n\u001b[0;32m    133\u001b[0m   \u001b[0mhistory\u001b[0m\u001b[1;33m=\u001b[0m\u001b[0mmodel_third\u001b[0m\u001b[1;33m.\u001b[0m\u001b[0mfit\u001b[0m\u001b[1;33m(\u001b[0m\u001b[0msix_months_stock_encode\u001b[0m\u001b[1;33m,\u001b[0m\u001b[0mtarget_third\u001b[0m\u001b[1;33m,\u001b[0m \u001b[0mbatch_size\u001b[0m\u001b[1;33m=\u001b[0m\u001b[0mB_SIZE\u001b[0m\u001b[1;33m,\u001b[0m \u001b[0mepochs\u001b[0m\u001b[1;33m=\u001b[0m\u001b[1;36m30\u001b[0m\u001b[1;33m)\u001b[0m\u001b[1;33m\u001b[0m\u001b[1;33m\u001b[0m\u001b[0m\n",
      "\u001b[1;32m~\\anaconda3\\envs\\CUDA\\lib\\site-packages\\tensorflow\\python\\keras\\engine\\training.py\u001b[0m in \u001b[0;36m_method_wrapper\u001b[1;34m(self, *args, **kwargs)\u001b[0m\n\u001b[0;32m    106\u001b[0m   \u001b[1;32mdef\u001b[0m \u001b[0m_method_wrapper\u001b[0m\u001b[1;33m(\u001b[0m\u001b[0mself\u001b[0m\u001b[1;33m,\u001b[0m \u001b[1;33m*\u001b[0m\u001b[0margs\u001b[0m\u001b[1;33m,\u001b[0m \u001b[1;33m**\u001b[0m\u001b[0mkwargs\u001b[0m\u001b[1;33m)\u001b[0m\u001b[1;33m:\u001b[0m\u001b[1;33m\u001b[0m\u001b[1;33m\u001b[0m\u001b[0m\n\u001b[0;32m    107\u001b[0m     \u001b[1;32mif\u001b[0m \u001b[1;32mnot\u001b[0m \u001b[0mself\u001b[0m\u001b[1;33m.\u001b[0m\u001b[0m_in_multi_worker_mode\u001b[0m\u001b[1;33m(\u001b[0m\u001b[1;33m)\u001b[0m\u001b[1;33m:\u001b[0m  \u001b[1;31m# pylint: disable=protected-access\u001b[0m\u001b[1;33m\u001b[0m\u001b[1;33m\u001b[0m\u001b[0m\n\u001b[1;32m--&gt; 108\u001b[1;33m       \u001b[1;32mreturn\u001b[0m \u001b[0mmethod\u001b[0m\u001b[1;33m(\u001b[0m\u001b[0mself\u001b[0m\u001b[1;33m,\u001b[0m \u001b[1;33m*\u001b[0m\u001b[0margs\u001b[0m\u001b[1;33m,\u001b[0m \u001b[1;33m**\u001b[0m\u001b[0mkwargs\u001b[0m\u001b[1;33m)\u001b[0m\u001b[1;33m\u001b[0m\u001b[1;33m\u001b[0m\u001b[0m\n\u001b[0m\u001b[0;32m    109\u001b[0m \u001b[1;33m\u001b[0m\u001b[0m\n\u001b[0;32m    110\u001b[0m     \u001b[1;31m# Running inside `run_distribute_coordinator` already.\u001b[0m\u001b[1;33m\u001b[0m\u001b[1;33m\u001b[0m\u001b[1;33m\u001b[0m\u001b[0m\n",
      "\u001b[1;32m~\\anaconda3\\envs\\CUDA\\lib\\site-packages\\tensorflow\\python\\keras\\engine\\training.py\u001b[0m in \u001b[0;36mfit\u001b[1;34m(self, x, y, batch_size, epochs, verbose, callbacks, validation_split, validation_data, shuffle, class_weight, sample_weight, initial_epoch, steps_per_epoch, validation_steps, validation_batch_size, validation_freq, max_queue_size, workers, use_multiprocessing)\u001b[0m\n\u001b[0;32m   1096\u001b[0m                 batch_size=batch_size):\n\u001b[0;32m   1097\u001b[0m               \u001b[0mcallbacks\u001b[0m\u001b[1;33m.\u001b[0m\u001b[0mon_train_batch_begin\u001b[0m\u001b[1;33m(\u001b[0m\u001b[0mstep\u001b[0m\u001b[1;33m)\u001b[0m\u001b[1;33m\u001b[0m\u001b[1;33m\u001b[0m\u001b[0m\n\u001b[1;32m-&gt; 1098\u001b[1;33m               \u001b[0mtmp_logs\u001b[0m \u001b[1;33m=\u001b[0m \u001b[0mtrain_function\u001b[0m\u001b[1;33m(\u001b[0m\u001b[0miterator\u001b[0m\u001b[1;33m)\u001b[0m\u001b[1;33m\u001b[0m\u001b[1;33m\u001b[0m\u001b[0m\n\u001b[0m\u001b[0;32m   1099\u001b[0m               \u001b[1;32mif\u001b[0m \u001b[0mdata_handler\u001b[0m\u001b[1;33m.\u001b[0m\u001b[0mshould_sync\u001b[0m\u001b[1;33m:\u001b[0m\u001b[1;33m\u001b[0m\u001b[1;33m\u001b[0m\u001b[0m\n\u001b[0;32m   1100\u001b[0m                 \u001b[0mcontext\u001b[0m\u001b[1;33m.\u001b[0m\u001b[0masync_wait\u001b[0m\u001b[1;33m(\u001b[0m\u001b[1;33m)\u001b[0m\u001b[1;33m\u001b[0m\u001b[1;33m\u001b[0m\u001b[0m\n",
      "\u001b[1;32m~\\anaconda3\\envs\\CUDA\\lib\\site-packages\\tensorflow\\python\\eager\\def_function.py\u001b[0m in \u001b[0;36m__call__\u001b[1;34m(self, *args, **kwds)\u001b[0m\n\u001b[0;32m    778\u001b[0m       \u001b[1;32melse\u001b[0m\u001b[1;33m:\u001b[0m\u001b[1;33m\u001b[0m\u001b[1;33m\u001b[0m\u001b[0m\n\u001b[0;32m    779\u001b[0m         \u001b[0mcompiler\u001b[0m \u001b[1;33m=\u001b[0m \u001b[1;34m&quot;nonXla&quot;\u001b[0m\u001b[1;33m\u001b[0m\u001b[1;33m\u001b[0m\u001b[0m\n\u001b[1;32m--&gt; 780\u001b[1;33m         \u001b[0mresult\u001b[0m \u001b[1;33m=\u001b[0m \u001b[0mself\u001b[0m\u001b[1;33m.\u001b[0m\u001b[0m_call\u001b[0m\u001b[1;33m(\u001b[0m\u001b[1;33m*\u001b[0m\u001b[0margs\u001b[0m\u001b[1;33m,\u001b[0m \u001b[1;33m**\u001b[0m\u001b[0mkwds\u001b[0m\u001b[1;33m)\u001b[0m\u001b[1;33m\u001b[0m\u001b[1;33m\u001b[0m\u001b[0m\n\u001b[0m\u001b[0;32m    781\u001b[0m \u001b[1;33m\u001b[0m\u001b[0m\n\u001b[0;32m    782\u001b[0m       \u001b[0mnew_tracing_count\u001b[0m \u001b[1;33m=\u001b[0m \u001b[0mself\u001b[0m\u001b[1;33m.\u001b[0m\u001b[0m_get_tracing_count\u001b[0m\u001b[1;33m(\u001b[0m\u001b[1;33m)\u001b[0m\u001b[1;33m\u001b[0m\u001b[1;33m\u001b[0m\u001b[0m\n",
      "\u001b[1;32m~\\anaconda3\\envs\\CUDA\\lib\\site-packages\\tensorflow\\python\\eager\\def_function.py\u001b[0m in \u001b[0;36m_call\u001b[1;34m(self, *args, **kwds)\u001b[0m\n\u001b[0;32m    838\u001b[0m         \u001b[1;31m# Lifting succeeded, so variables are initialized and we can run the\u001b[0m\u001b[1;33m\u001b[0m\u001b[1;33m\u001b[0m\u001b[1;33m\u001b[0m\u001b[0m\n\u001b[0;32m    839\u001b[0m         \u001b[1;31m# stateless function.\u001b[0m\u001b[1;33m\u001b[0m\u001b[1;33m\u001b[0m\u001b[1;33m\u001b[0m\u001b[0m\n\u001b[1;32m--&gt; 840\u001b[1;33m         \u001b[1;32mreturn\u001b[0m \u001b[0mself\u001b[0m\u001b[1;33m.\u001b[0m\u001b[0m_stateless_fn\u001b[0m\u001b[1;33m(\u001b[0m\u001b[1;33m*\u001b[0m\u001b[0margs\u001b[0m\u001b[1;33m,\u001b[0m \u001b[1;33m**\u001b[0m\u001b[0mkwds\u001b[0m\u001b[1;33m)\u001b[0m\u001b[1;33m\u001b[0m\u001b[1;33m\u001b[0m\u001b[0m\n\u001b[0m\u001b[0;32m    841\u001b[0m     \u001b[1;32melse\u001b[0m\u001b[1;33m:\u001b[0m\u001b[1;33m\u001b[0m\u001b[1;33m\u001b[0m\u001b[0m\n\u001b[0;32m    842\u001b[0m       \u001b[0mcanon_args\u001b[0m\u001b[1;33m,\u001b[0m \u001b[0mcanon_kwds\u001b[0m \u001b[1;33m=\u001b[0m\u001b[0;31m \u001b[0m\u001b[0;31m\\\u001b[0m\u001b[1;33m\u001b[0m\u001b[1;33m\u001b[0m\u001b[0m\n",
      "\u001b[1;32m~\\anaconda3\\envs\\CUDA\\lib\\site-packages\\tensorflow\\python\\eager\\function.py\u001b[0m in \u001b[0;36m__call__\u001b[1;34m(self, *args, **kwargs)\u001b[0m\n\u001b[0;32m   2827\u001b[0m     \u001b[1;32mwith\u001b[0m \u001b[0mself\u001b[0m\u001b[1;33m.\u001b[0m\u001b[0m_lock\u001b[0m\u001b[1;33m:\u001b[0m\u001b[1;33m\u001b[0m\u001b[1;33m\u001b[0m\u001b[0m\n\u001b[0;32m   2828\u001b[0m       \u001b[0mgraph_function\u001b[0m\u001b[1;33m,\u001b[0m \u001b[0margs\u001b[0m\u001b[1;33m,\u001b[0m \u001b[0mkwargs\u001b[0m \u001b[1;33m=\u001b[0m \u001b[0mself\u001b[0m\u001b[1;33m.\u001b[0m\u001b[0m_maybe_define_function\u001b[0m\u001b[1;33m(\u001b[0m\u001b[0margs\u001b[0m\u001b[1;33m,\u001b[0m \u001b[0mkwargs\u001b[0m\u001b[1;33m)\u001b[0m\u001b[1;33m\u001b[0m\u001b[1;33m\u001b[0m\u001b[0m\n\u001b[1;32m-&gt; 2829\u001b[1;33m     \u001b[1;32mreturn\u001b[0m \u001b[0mgraph_function\u001b[0m\u001b[1;33m.\u001b[0m\u001b[0m_filtered_call\u001b[0m\u001b[1;33m(\u001b[0m\u001b[0margs\u001b[0m\u001b[1;33m,\u001b[0m \u001b[0mkwargs\u001b[0m\u001b[1;33m)\u001b[0m  \u001b[1;31m# pylint: disable=protected-access\u001b[0m\u001b[1;33m\u001b[0m\u001b[1;33m\u001b[0m\u001b[0m\n\u001b[0m\u001b[0;32m   2830\u001b[0m \u001b[1;33m\u001b[0m\u001b[0m\n\u001b[0;32m   2831\u001b[0m   \u001b[1;33m@\u001b[0m\u001b[0mproperty\u001b[0m\u001b[1;33m\u001b[0m\u001b[1;33m\u001b[0m\u001b[0m\n",
      "\u001b[1;32m~\\anaconda3\\envs\\CUDA\\lib\\site-packages\\tensorflow\\python\\eager\\function.py\u001b[0m in \u001b[0;36m_filtered_call\u001b[1;34m(self, args, kwargs, cancellation_manager)\u001b[0m\n\u001b[0;32m   1841\u001b[0m       \u001b[0;31m`\u001b[0m\u001b[0margs\u001b[0m\u001b[0;31m`\u001b[0m \u001b[1;32mand\u001b[0m\u001b[0;31m \u001b[0m\u001b[0;31m`\u001b[0m\u001b[0mkwargs\u001b[0m\u001b[0;31m`\u001b[0m\u001b[1;33m.\u001b[0m\u001b[1;33m\u001b[0m\u001b[1;33m\u001b[0m\u001b[0m\n\u001b[0;32m   1842\u001b[0m     &quot;&quot;&quot;\n\u001b[1;32m-&gt; 1843\u001b[1;33m     return self._call_flat(\n\u001b[0m\u001b[0;32m   1844\u001b[0m         [t for t in nest.flatten((args, kwargs), expand_composites=True)\n\u001b[0;32m   1845\u001b[0m          if isinstance(t, (ops.Tensor,\n",
      "\u001b[1;32m~\\anaconda3\\envs\\CUDA\\lib\\site-packages\\tensorflow\\python\\eager\\function.py\u001b[0m in \u001b[0;36m_call_flat\u001b[1;34m(self, args, captured_inputs, cancellation_manager)\u001b[0m\n\u001b[0;32m   1921\u001b[0m         and executing_eagerly):\n\u001b[0;32m   1922\u001b[0m       \u001b[1;31m# No tape is watching; skip to running the function.\u001b[0m\u001b[1;33m\u001b[0m\u001b[1;33m\u001b[0m\u001b[1;33m\u001b[0m\u001b[0m\n\u001b[1;32m-&gt; 1923\u001b[1;33m       return self._build_call_outputs(self._inference_function.call(\n\u001b[0m\u001b[0;32m   1924\u001b[0m           ctx, args, cancellation_manager=cancellation_manager))\n\u001b[0;32m   1925\u001b[0m     forward_backward = self._select_forward_and_backward_functions(\n",
      "\u001b[1;32m~\\anaconda3\\envs\\CUDA\\lib\\site-packages\\tensorflow\\python\\eager\\function.py\u001b[0m in \u001b[0;36mcall\u001b[1;34m(self, ctx, args, cancellation_manager)\u001b[0m\n\u001b[0;32m    543\u001b[0m       \u001b[1;32mwith\u001b[0m \u001b[0m_InterpolateFunctionError\u001b[0m\u001b[1;33m(\u001b[0m\u001b[0mself\u001b[0m\u001b[1;33m)\u001b[0m\u001b[1;33m:\u001b[0m\u001b[1;33m\u001b[0m\u001b[1;33m\u001b[0m\u001b[0m\n\u001b[0;32m    544\u001b[0m         \u001b[1;32mif\u001b[0m \u001b[0mcancellation_manager\u001b[0m \u001b[1;32mis\u001b[0m \u001b[1;32mNone\u001b[0m\u001b[1;33m:\u001b[0m\u001b[1;33m\u001b[0m\u001b[1;33m\u001b[0m\u001b[0m\n\u001b[1;32m--&gt; 545\u001b[1;33m           outputs = execute.execute(\n\u001b[0m\u001b[0;32m    546\u001b[0m               \u001b[0mstr\u001b[0m\u001b[1;33m(\u001b[0m\u001b[0mself\u001b[0m\u001b[1;33m.\u001b[0m\u001b[0msignature\u001b[0m\u001b[1;33m.\u001b[0m\u001b[0mname\u001b[0m\u001b[1;33m)\u001b[0m\u001b[1;33m,\u001b[0m\u001b[1;33m\u001b[0m\u001b[1;33m\u001b[0m\u001b[0m\n\u001b[0;32m    547\u001b[0m               \u001b[0mnum_outputs\u001b[0m\u001b[1;33m=\u001b[0m\u001b[0mself\u001b[0m\u001b[1;33m.\u001b[0m\u001b[0m_num_outputs\u001b[0m\u001b[1;33m,\u001b[0m\u001b[1;33m\u001b[0m\u001b[1;33m\u001b[0m\u001b[0m\n",
      "\u001b[1;32m~\\anaconda3\\envs\\CUDA\\lib\\site-packages\\tensorflow\\python\\eager\\execute.py\u001b[0m in \u001b[0;36mquick_execute\u001b[1;34m(op_name, num_outputs, inputs, attrs, ctx, name)\u001b[0m\n\u001b[0;32m     57\u001b[0m   \u001b[1;32mtry\u001b[0m\u001b[1;33m:\u001b[0m\u001b[1;33m\u001b[0m\u001b[1;33m\u001b[0m\u001b[0m\n\u001b[0;32m     58\u001b[0m     \u001b[0mctx\u001b[0m\u001b[1;33m.\u001b[0m\u001b[0mensure_initialized\u001b[0m\u001b[1;33m(\u001b[0m\u001b[1;33m)\u001b[0m\u001b[1;33m\u001b[0m\u001b[1;33m\u001b[0m\u001b[0m\n\u001b[1;32m---&gt; 59\u001b[1;33m     tensors = pywrap_tfe.TFE_Py_Execute(ctx._handle, device_name, op_name,\n\u001b[0m\u001b[0;32m     60\u001b[0m                                         inputs, attrs, num_outputs)\n\u001b[0;32m     61\u001b[0m   \u001b[1;32mexcept\u001b[0m \u001b[0mcore\u001b[0m\u001b[1;33m.\u001b[0m\u001b[0m_NotOkStatusException\u001b[0m \u001b[1;32mas\u001b[0m \u001b[0me\u001b[0m\u001b[1;33m:\u001b[0m\u001b[1;33m\u001b[0m\u001b[1;33m\u001b[0m\u001b[0m\n",
      "\u001b[1;31mInternalError\u001b[0m:  Blas GEMM launch failed : a.shape=(1, 1073), b.shape=(1073, 1066), m=1, n=1066, k=1073\n\t [[node sequential/dense/MatMul (defined at &lt;ipython-input-11-9b269a81c1c4&gt;:131) ]] [Op:__inference_train_function_640]\n\nFunction call stack:\ntrain_function\n"
     ]
    }
   ],
   "source": [
    "g=Workbook()\n",
    "final_answer = g.create_sheet()\n",
    "B_SIZE = 1 # batch_size\n",
    "for count in range(0,48):\n",
    "  # 타이머 시작\n",
    "  start = time.time()\n",
    "  # 월별 거래내역, 12개월의 데이터. 반복문의 시작을 여기로 하면 될 듯.\n",
    "  stock_trade_month = [g[1] for g in grouper[count].groupby(['기준년월'])]\n",
    "  print(len(stock_trade_month))\n",
    "  # 매수고객순으로 정렬\n",
    "  for i in range(len(stock_trade_month)):\n",
    "      stock_trade_month[i] = stock_trade_month[i].sort_values(by = ['매수고객수'], ascending = False)\n",
    "\n",
    "  # 차례대로 선택된 그룹이 7~12월동안 각 월마다 제일 많이, 두번째로, 세번째로 많이 매수한 종목들\n",
    "  first_buy_stock = [] \n",
    "  second_buy_stock = []\n",
    "  third_buy_stock = []\n",
    "\n",
    "  for i in range(len(stock_trade_month)-6):\n",
    "      first_buy_stock.append(stock_trade_month[i+6].iloc[0]['종목번호']) \n",
    "      try:\n",
    "        second_buy_stock.append(stock_trade_month[i+6].iloc[1]['종목번호'])\n",
    "      except:\n",
    "        pass\n",
    "      try:\n",
    "        third_buy_stock.append(stock_trade_month[i+6].iloc[2]['종목번호'])\n",
    "      except:\n",
    "        pass\n",
    "      \n",
    "      \n",
    "  # 6개월별 데이터를 모아놓아야함\n",
    "  six_months_data = []\n",
    "  for i in range(len(stock_trade_month)-6):\n",
    "      for j in range(6):\n",
    "          six_months_data = six_months_data + stock_trade_month[i+j].loc[:,['종목번호']].values.tolist()\n",
    "  six_months_stock_code = []\n",
    "  for i in range(len(six_months_data)):\n",
    "      six_months_stock_code.append(six_months_data[i][0])\n",
    "  six_months_stock_encode = encoding_code(six_months_stock_code)\n",
    "\n",
    "  # 6개월 데이터 합쳐서 데이터 프레임으로 표기\n",
    "  final_df = DataFrame()\n",
    "  for i in range(len(stock_trade_month)-6):\n",
    "      for j in range(6):\n",
    "          final_df = pd.concat([final_df,stock_trade_month[i+j]])\n",
    "          \n",
    "  final_df.drop(['Unnamed: 0','기준년월','그룹내고객수','그룹번호'], axis = 1)\n",
    "\n",
    "  # 매수 매도 여부 encoding\n",
    "  mesu_medo_mapping = {\"Y\": 1, \"N\": 0}\n",
    "  final_df['그룹내_매수여부'] = final_df['그룹내_매수여부'].map(mesu_medo_mapping)\n",
    "  final_df['그룹내_매도여부'] = final_df['그룹내_매도여부'].map(mesu_medo_mapping)\n",
    "\n",
    "  # 매수매도 중앙값 처리\n",
    "  final_df['중앙값차'] = 0\n",
    "  final_df['중앙값차'] = round(((final_df['매도가격_중앙값'] - final_df['매수가격_중앙값'])/final_df['매수가격_중앙값'])*100,2)\n",
    "  final_df['중앙값차'] = np.where(final_df['매도가격_중앙값']==-1, 30.00 , final_df['중앙값차'])\n",
    "  final_df['중앙값차'] = np.where(final_df['매수가격_중앙값']==-1, -30.00 , final_df['중앙값차'])\n",
    "\n",
    "  final_df= final_df.drop(['매도가격_중앙값'], axis = 1)\n",
    "  final_df= final_df.drop(['매수가격_중앙값'], axis = 1)\n",
    "\n",
    "  # multi class mixture embedding \n",
    "  for i in range(len(final_df)):\n",
    "      six_months_stock_encode[i].append(final_df['그룹내_매수여부'].values[i])\n",
    "      six_months_stock_encode[i].append(final_df['그룹내_매도여부'].values[i])\n",
    "      six_months_stock_encode[i].append(final_df['매수고객수'].values[i])\n",
    "      six_months_stock_encode[i].append(final_df['매도고객수'].values[i])\n",
    "      six_months_stock_encode[i].append(final_df['평균매수수량'].values[i])\n",
    "      six_months_stock_encode[i].append(final_df['평균매도수량'].values[i])\n",
    "      six_months_stock_encode[i].append(final_df['중앙값차'].values[i])\n",
    "      \n",
    "  # target encoding\n",
    "  target_first = []\n",
    "  for i in range(len(stock_trade_month)-6):\n",
    "      iter_num = 0\n",
    "      for j in range(6):\n",
    "          iter_num = iter_num + len(stock_trade_month[i+j])\n",
    "      for k in range(iter_num):\n",
    "          target_first.append(first_buy_stock[i])\n",
    "  target_first = encoding_code(target_first)\n",
    "\n",
    "\n",
    "  target_second = []\n",
    "  for i in range(len(stock_trade_month)-6):\n",
    "      iter_num = 0\n",
    "      for j in range(6):\n",
    "          iter_num = iter_num + len(stock_trade_month[i+j])\n",
    "      for k in range(iter_num):\n",
    "          try:\n",
    "            target_second.append(second_buy_stock[i])\n",
    "          except:\n",
    "            target_second.append(first_buy_stock[i])    \n",
    "  target_second = encoding_code(target_second)\n",
    "\n",
    "\n",
    "  target_third= []\n",
    "  for i in range(len(stock_trade_month)-6):\n",
    "      iter_num = 0\n",
    "      for j in range(6):\n",
    "          iter_num = iter_num + len(stock_trade_month[i+j])\n",
    "      for k in range(iter_num):\n",
    "          try:\n",
    "            target_third.append(third_buy_stock[i])\n",
    "          except:\n",
    "            target_third.append(first_buy_stock[i])\n",
    "  target_third = encoding_code(target_third)\n",
    "\n",
    "  # softmax Deep learning\n",
    "  model_first = Sequential()\n",
    "  model_second = Sequential()\n",
    "  model_third = Sequential()\n",
    "\n",
    "\n",
    "  model_first.add(Dense(1066, input_dim=1073, activation='softmax'))\n",
    "  model_second.add(Dense(1066, input_dim=1073, activation='softmax'))\n",
    "  model_third.add(Dense(1066, input_dim=1073, activation='softmax'))\n",
    "\n",
    "  # learning rate = 0.1\n",
    "  sgd=optimizers.SGD(lr=0.01)\n",
    "\n",
    "  # 옵티마이저는 adam\n",
    "  # loss function 은 categorical_crossentropy\n",
    "  model_first.compile(loss='categorical_crossentropy', optimizer='adam',metrics=['accuracy'])\n",
    "  model_second.compile(loss='categorical_crossentropy', optimizer='adam',metrics=['accuracy'])\n",
    "  model_third.compile(loss='categorical_crossentropy', optimizer='adam',metrics=['accuracy'])\n",
    "\n",
    "\n",
    "  \n",
    "\n",
    "  history=model_first.fit(six_months_stock_encode,target_first, batch_size=B_SIZE, epochs=30)\n",
    "  history=model_second.fit(six_months_stock_encode,target_second, batch_size=B_SIZE, epochs=30)\n",
    "  history=model_third.fit(six_months_stock_encode,target_third, batch_size=B_SIZE, epochs=30)\n",
    "\n",
    "  # Predict \n",
    "  predict_X = stock_trade_month[len(stock_trade_month)-1].loc[:,['종목번호']].values.tolist() \n",
    "  predict_X_code = []\n",
    "  for i in range(len(predict_X)):\n",
    "      predict_X_code.append(predict_X[i][0])\n",
    "  predict_X_encode = encoding_code(predict_X_code)\n",
    "\n",
    "  predict_df = stock_trade_month[len(stock_trade_month)-1]\n",
    "  predict_df.drop(['Unnamed: 0','기준년월','그룹내고객수','그룹번호'], axis = 1)\n",
    "\n",
    "  # 매수 매도 여부 encoding\n",
    "  mesu_medo_mapping = {\"Y\": 1, \"N\": 0}\n",
    "  predict_df['그룹내_매수여부'] = predict_df['그룹내_매수여부'].map(mesu_medo_mapping)\n",
    "  predict_df['그룹내_매도여부'] = predict_df['그룹내_매도여부'].map(mesu_medo_mapping)\n",
    "\n",
    "  # 매수매도 중앙값 처리\n",
    "  predict_df['중앙값차'] = 0\n",
    "  predict_df['중앙값차'] = round(((predict_df['매도가격_중앙값'] - predict_df['매수가격_중앙값'])/predict_df['매수가격_중앙값'])*100,2)\n",
    "  predict_df['중앙값차'] = np.where(predict_df['매도가격_중앙값']==-1, 30.00 , predict_df['중앙값차'])\n",
    "  predict_df['중앙값차'] = np.where(predict_df['매수가격_중앙값']==-1, -30.00 , predict_df['중앙값차'])\n",
    "\n",
    "  predict_df= predict_df.drop(['매도가격_중앙값'], axis = 1)\n",
    "  predict_df= predict_df.drop(['매수가격_중앙값'], axis = 1)\n",
    "\n",
    "  # multi class mixture embedding \n",
    "  for i in range(len(predict_df)):\n",
    "      predict_X_encode[i].append(predict_df['그룹내_매수여부'].values[i])\n",
    "      predict_X_encode[i].append(predict_df['그룹내_매도여부'].values[i])\n",
    "      predict_X_encode[i].append(predict_df['매수고객수'].values[i])\n",
    "      predict_X_encode[i].append(predict_df['매도고객수'].values[i])\n",
    "      predict_X_encode[i].append(predict_df['평균매수수량'].values[i])\n",
    "      predict_X_encode[i].append(predict_df['평균매도수량'].values[i])\n",
    "      predict_X_encode[i].append(predict_df['중앙값차'].values[i]) \n",
    "\n",
    "  pre_ans = []\n",
    "  first_predict = all_stock.iloc[int(model_first.predict_classes([predict_X_encode[0]]))]['종목번호']\n",
    "  pre_ans.append(first_predict)\n",
    "\n",
    "  second_predict = all_stock.iloc[int(model_second.predict_classes([predict_X_encode[0]]))]['종목번호']\n",
    "  if(first_predict == second_predict):\n",
    "    second_predict =  all_stock.iloc[int(model_second.predict_classes([predict_X_encode[1]]))]['종목번호']\n",
    "  pre_ans.append(second_predict)\n",
    "  \n",
    "  third_predict = all_stock.iloc[int(model_third.predict_classes([predict_X_encode[0]]))]['종목번호']\n",
    "  if(third_predict == first_predict or third_predict == second_predict):\n",
    "        third_predict = all_stock.iloc[int(model_third.predict_classes([predict_X_encode[1]]))]['종목번호']\n",
    "        if(third_predict == first_predict or third_predict == second_predict):\n",
    "            third_predict = all_stock.iloc[int(model_third.predict_classes([predict_X_encode[2]]))]['종목번호']\n",
    "  pre_ans.append(third_predict)\n",
    "  pre_ans.sort()\n",
    "  final_answer.append(pre_ans)\n",
    "  g.save(f_dir + '/answer.xlsx')\n",
    "  print(\"--------{}그룹 ---------\".format(count))\n",
    "  print(\"time : \", time.time() - start) # 현재시각 - 시작시간\n",
    "  \n",
    "\n",
    "    \n",
    "\n",
    "\n",
    "\n",
    "#주어진 X와 y데이터에 대해서 오차를 최소화하는 작업을 200번 시도합니다."
   ]
  },
  {
   "cell_type": "code",
   "execution_count": null,
   "metadata": {},
   "outputs": [],
   "source": [
    "\n",
    "\n",
    "\n",
    "\n"
   ]
  },
  {
   "cell_type": "code",
   "execution_count": null,
   "metadata": {},
   "outputs": [],
   "source": []
  }
 ],
 "metadata": {
  "kernelspec": {
   "display_name": "Python 3",
   "language": "python",
   "name": "python3"
  },
  "language_info": {
   "codemirror_mode": {
    "name": "ipython",
    "version": 3
   },
   "file_extension": ".py",
   "mimetype": "text/x-python",
   "name": "python",
   "nbconvert_exporter": "python",
   "pygments_lexer": "ipython3",
   "version": "3.8.5-final"
  }
 },
 "nbformat": 4,
 "nbformat_minor": 4
}